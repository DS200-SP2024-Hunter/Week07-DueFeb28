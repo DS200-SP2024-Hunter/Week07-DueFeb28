{
  "nbformat": 4,
  "nbformat_minor": 5,
  "metadata": {
    "kernelspec": {
      "display_name": "Python 3 (ipykernel)",
      "language": "python",
      "name": "python3"
    },
    "language_info": {
      "codemirror_mode": {
        "name": "ipython",
        "version": 3
      },
      "file_extension": ".py",
      "mimetype": "text/x-python",
      "name": "python",
      "nbconvert_exporter": "python",
      "pygments_lexer": "ipython3",
      "version": "3.7.9"
    },
    "colab": {
      "provenance": []
    }
  },
  "cells": [
    {
      "cell_type": "markdown",
      "source": [
        "#Supplemental Notebook for Lab 07"
      ],
      "metadata": {
        "id": "1-8B6mw1l6K_"
      }
    },
    {
      "cell_type": "markdown",
      "source": [
        "First, import the `datascience` library and some other needed resources, as we've done many times in the past."
      ],
      "metadata": {
        "id": "7CUHPGlQkq_l"
      }
    },
    {
      "cell_type": "code",
      "source": [
        "from datascience import *\n",
        "%matplotlib inline\n",
        "import matplotlib.pyplot as plt\n",
        "plt.style.use('fivethirtyeight')\n",
        "import math\n",
        "from scipy import stats\n",
        "import numpy as np\n",
        "import warnings\n",
        "warnings.simplefilter(action='ignore', category=np.VisibleDeprecationWarning)"
      ],
      "metadata": {
        "id": "sEHbbJDwkhFA"
      },
      "execution_count": 1,
      "outputs": []
    },
    {
      "cell_type": "markdown",
      "source": [
        "Following the same procedure as in [Lab 6](https://github.com/DS200-SP2024-Hunter/Week06-DueFeb23), mount the google drive:"
      ],
      "metadata": {
        "id": "IJ_zEUsZk1zy"
      }
    },
    {
      "cell_type": "code",
      "source": [
        "from google.colab import drive\n",
        "drive.mount('/content/drive')\n"
      ],
      "metadata": {
        "id": "DuCTFXubajJ_"
      },
      "execution_count": null,
      "outputs": []
    },
    {
      "cell_type": "markdown",
      "source": [
        "Then `cd` (change directory) to the correct path where the giant dataset is stored."
      ],
      "metadata": {
        "id": "MRE3WbSumk_8"
      }
    },
    {
      "cell_type": "code",
      "source": [
        "cd /content/drive/MyDrive/Colab\\ Notebooks/data"
      ],
      "metadata": {
        "id": "XBNLLUgOmgO4"
      },
      "execution_count": null,
      "outputs": []
    },
    {
      "cell_type": "markdown",
      "source": [
        "Read in the `airports.csv` dataset (small) and the `flights.csv` dataset (massive).  This takes a while."
      ],
      "metadata": {
        "id": "TvwJrXGalmCN"
      }
    },
    {
      "cell_type": "code",
      "source": [
        "airports = Table.read_table('airports.csv')\n",
        "flights = Table.read_table('flights.csv')"
      ],
      "metadata": {
        "id": "P6JAoCbgabu8"
      },
      "execution_count": 4,
      "outputs": []
    },
    {
      "cell_type": "markdown",
      "source": [
        "# The code below still needs to be cleaned up:"
      ],
      "metadata": {
        "id": "UreCThmNStUJ"
      }
    },
    {
      "cell_type": "code",
      "source": [
        "#########################################################\n",
        "# DS 200, SP 2022 semester\n",
        "# python code related to Lab 07 if you choose to adapt it\n",
        "# If you use this code, copy-paste it one block at a time\n",
        "# and try to understand what each block accomplishes\n",
        "#########################################################\n",
        "\n",
        "# Load needed python resources, including folium mapping module\n",
        "from datascience import *\n",
        "import matplotlib\n",
        "matplotlib.use('Agg', warn=False)\n",
        "%matplotlib inline\n",
        "import matplotlib.pyplot as plots\n",
        "plots.style.use('fivethirtyeight')\n",
        "import numpy as np\n",
        "import pandas as pd\n",
        "np.set_printoptions(threshold=50)\n",
        "import folium\n",
        "\n",
        "# Read massive dataset.  Your file path may be different,\n",
        "# depending on where you stored the data files for Lab 6.\n",
        "file_path = 'drive/My Drive/Colab Notebooks/data/'\n",
        "flights = Table.read_table(file_path + 'flights.csv')\n",
        "\n",
        "# Read airports dataset containing airport names and lat/lon coordinates\n",
        "airports = Table.read_table(file_path + 'airports.csv')\n",
        "\n",
        "# Read airlines dataset containing airline names\n",
        "airlines = Table.read_table(file_path + 'airlines.csv')\n",
        "# This Table is small enough to print the whole thing:\n",
        "airlines.show()\n",
        "\n",
        "# Figure out how many flights per airline\n",
        "# Notice (and try to understand!) the various methods\n",
        "# used to create the new Table\n",
        "count_by_airline = (flights\n",
        "     .select('AIRLINE')\n",
        "     .relabeled('AIRLINE', 'AIRLINE_CODE')\n",
        "     .group('AIRLINE_CODE')\n",
        "     .join('AIRLINE_CODE', airlines, 'IATA_CODE')\n",
        "     .relabeled('AIRLINE', 'AIRLINE_NAME')\n",
        "     .sort('count', descending = True)\n",
        ")\n",
        "# Print the table we just created\n",
        "count_by_airline.show()\n",
        "\n",
        "# Check out the columns available in the flights dataset\n",
        "# Think about which might be interesting to display on a map\n",
        "flights.labels\n",
        "\n",
        "# Calculate average departure delay for each airline\n",
        "# Notice (and try to understand!) the various methods\n",
        "# used to create the new Table\n",
        "avg_delays = (flights\n",
        "     .select('AIRLINE', 'DEPARTURE_DELAY')\n",
        "     .relabeled('AIRLINE', 'AIRLINE_CODE')\n",
        "     .group('AIRLINE_CODE', np.nanmean)\n",
        "     .relabeled('DEPARTURE_DELAY nanmean', 'AVG_DELAY')\n",
        "     .join('AIRLINE_CODE', airlines, 'IATA_CODE')\n",
        "     .relabeled('AIRLINE', 'AIRLINE_NAME')\n",
        "     .sort('AVG_DELAY')\n",
        ")\n",
        "# Print the table we just created\n",
        "avg_delays.show()\n",
        "\n",
        "# As an illustration, let's consider only flights by\n",
        "# American and American Eagle\n",
        "AmFlights = (flights.where('AIRLINE', are.contained_in('AA MQ')))\n",
        "\n",
        "# Count American flights for each ORIGIN_AIRPORT to get\n",
        "# an idea of how many airports these airlines serve\n",
        "airport_counts = AmFlights.group('ORIGIN_AIRPORT').sort('count', descending=True)\n",
        "airport_counts\n",
        "\n",
        "# Find average AIR_TIME for each ORIGIN_AIRPORT and join lat/lon info\n",
        "# so that we can create a map with airport locations\n",
        "avg_airtime = (AmFlights\n",
        "     .select('AIR_TIME', 'ORIGIN_AIRPORT')\n",
        "     .group('ORIGIN_AIRPORT', np.nanmean)\n",
        "     .relabeled('AIR_TIME nanmean', 'AVG_AIRTIME')\n",
        "     .join('ORIGIN_AIRPORT', airports, 'IATA_CODE')\n",
        "     .join('ORIGIN_AIRPORT', airport_counts, 'ORIGIN_AIRPORT')\n",
        "     .select('ORIGIN_AIRPORT', 'AVG_AIRTIME', 'AIRPORT', 'LATITUDE',\n",
        "                                                'LONGITUDE', 'count')\n",
        "     .relabeled('AIRPORT', 'AIRPORT_NAME')\n",
        ")\n",
        "# Let's see the top 10 rows of this new Table\n",
        "avg_airtime\n",
        "\n",
        "# Create folium map with circles having radius proportional to air time\n",
        "AmericanAirlinesMap = folium.Map(location=[35, -100],\n",
        "     tiles=\"OpenStreetMap\", zoom_start=4,\n",
        "     width='100%', height='100%')\n",
        "# Add Circles one by one using info from avg_airtime Table\n",
        "for i in np.arange(avg_airtime.num_rows):\n",
        "     folium.Circle([avg_airtime.column('LATITUDE')[i],\n",
        "     avg_airtime.column('LONGITUDE')[i]],\n",
        "     radius = 250 * avg_airtime.column('AVG_AIRTIME')[i],\n",
        "     fill=True).add_to(AmericanAirlinesMap)\n",
        "# Once Map object is created, output it:\n",
        "AmericanAirlinesMap\n",
        "\n",
        "# Let's color the cities by how many flights:\n",
        "# Use 'cut' method in pandas library to create a categorical\n",
        "# variable from a numerical variable such as 'count'\n",
        "count_colors = pd.cut(avg_airtime.column('count'),\n",
        "     bins = [0, 10000, 25000, 50000, 100000, 200000],\n",
        "     labels = ['blue', 'green', 'yellow', 'orange',\n",
        "     'red'])\n",
        "# Add this newly created array of colors to the Table:\n",
        "avg_airtime = avg_airtime.with_column('color', count_colors)\n",
        "# Check out the top ten rows of the new Table:\n",
        "avg_airtime\n",
        "\n",
        "# Recreate folium map with circles having radius proportional to air time\n",
        "# But now using colors to categorize flight counts:\n",
        "# blue means 1 to 10000\n",
        "# green means 10001 to 25000\n",
        "# yellow means 25001 to 50000\n",
        "# orange means 50001 to 100000\n",
        "# red means 100001 to 200000\n",
        "AmericanAirlinesMap = folium.Map(location=[35, -100],\n",
        "     tiles=\"OpenStreetMap\", zoom_start=3,\n",
        "     width='100%', height='100%')\n",
        "# Add Circles one by one using info from avg_airtime Table\n",
        "for i in np.arange(avg_airtime.num_rows):\n",
        "     folium.Circle([avg_airtime.column('LATITUDE')[i],\n",
        "     avg_airtime.column('LONGITUDE')[i]],\n",
        "     radius = 250 * avg_airtime.column('AVG_AIRTIME')[i],\n",
        "     color = avg_airtime.column('color')[i],\n",
        "     fill=False).add_to(AmericanAirlinesMap)\n",
        "# Once Map object is created, output it.\n",
        "# This map shows both avg air time (by radius) and airport busyness (by color)\n",
        "# for all airports served by American or American Eagle\n",
        "AmericanAirlinesMap\n"
      ],
      "metadata": {
        "id": "XDKkmlQAmQC_"
      },
      "execution_count": null,
      "outputs": []
    },
    {
      "cell_type": "markdown",
      "source": [
        "# The code below is left from Lab 06:"
      ],
      "metadata": {
        "id": "-FYlJLZnNdUc"
      }
    },
    {
      "cell_type": "code",
      "source": [
        "gap = 1000\n",
        "start = np.random.choice(np.arange(gap))\n",
        "mySample = flights.take(np.arange(start, flights.num_rows, gap))\n",
        "print(mySample.num_rows)\n",
        "airports = Table.read_table('airports.csv')"
      ],
      "metadata": {
        "id": "wpIdGrEkauFS"
      },
      "execution_count": null,
      "outputs": []
    },
    {
      "cell_type": "code",
      "source": [
        "mySample = (flights.take(np.arange(start, flights.num_rows, gap))\n",
        "                   .join('ORIGIN_AIRPORT', airports, 'IATA_CODE')\n",
        "                   .select('MONTH', 'DAY', 'ORIGIN_AIRPORT',\n",
        "                           'DESTINATION_AIRPORT', 'SCHEDULED_DEPARTURE',\n",
        "                           'DEPARTURE_DELAY', 'AIRPORT',\n",
        "                           'LATITUDE', 'LONGITUDE')\n",
        "                   .relabeled('ORIGIN_AIRPORT', 'ORIGIN')\n",
        "                   .relabeled('DESTINATION_AIRPORT', 'DESTINATION')\n",
        "                   .relabeled('DEPARTURE_DELAY', 'DELAY')\n",
        "                   .relabeled('AIRPORT', 'ORIGIN_NAME')\n",
        "            )\n",
        "print(mySample.num_rows)\n",
        "mySample"
      ],
      "metadata": {
        "id": "J7EBng1za6F7"
      },
      "execution_count": null,
      "outputs": []
    },
    {
      "cell_type": "code",
      "source": [
        "mySample = mySample.with_column(\n",
        "             'APPROX_DAY_OF_YEAR',\n",
        "             30*(mySample.column('MONTH')-1) + mySample.column('DAY'))\n",
        "mySample"
      ],
      "metadata": {
        "colab": {
          "base_uri": "https://localhost:8080/",
          "height": 531
        },
        "id": "y2cmbUdha_v4",
        "outputId": "e8d5ede3-54a5-49a4-9df3-be7439135b19"
      },
      "execution_count": 8,
      "outputs": [
        {
          "output_type": "execute_result",
          "data": {
            "text/plain": [
              "MONTH | DAY  | ORIGIN | DESTINATION | SCHEDULED_DEPARTURE | DELAY | ORIGIN_NAME                         | LATITUDE | LONGITUDE | APPROX_DAY_OF_YEAR\n",
              "2     | 11   | ABE    | DTW         | 1253                | 212   | Lehigh Valley International Airport | 40.6524  | -75.4404  | 41\n",
              "3     | 15   | ABE    | ATL         | 1202                | -10   | Lehigh Valley International Airport | 40.6524  | -75.4404  | 75\n",
              "9     | 21   | ABE    | DTW         | 1300                | -6    | Lehigh Valley International Airport | 40.6524  | -75.4404  | 261\n",
              "12    | 2    | ABE    | ATL         | 600                 | -1    | Lehigh Valley International Airport | 40.6524  | -75.4404  | 332\n",
              "2     | 12   | ABI    | DFW         | 805                 | -12   | Abilene Regional Airport            | 32.4113  | -99.6819  | 42\n",
              "4     | 8    | ABI    | DFW         | 705                 | -3    | Abilene Regional Airport            | 32.4113  | -99.6819  | 98\n",
              "1     | 7    | ABQ    | OAK         | 1845                | 24    | Albuquerque International Sunport   | 35.0402  | -106.609  | 7\n",
              "1     | 25   | ABQ    | LAS         | 1020                | 9     | Albuquerque International Sunport   | 35.0402  | -106.609  | 25\n",
              "2     | 5    | ABQ    | DEN         | 655                 | -5    | Albuquerque International Sunport   | 35.0402  | -106.609  | 35\n",
              "3     | 2    | ABQ    | ORD         | 1313                | 16    | Albuquerque International Sunport   | 35.0402  | -106.609  | 62\n",
              "... (5323 rows omitted)"
            ],
            "text/html": [
              "<table border=\"1\" class=\"dataframe\">\n",
              "    <thead>\n",
              "        <tr>\n",
              "            <th>MONTH</th> <th>DAY</th> <th>ORIGIN</th> <th>DESTINATION</th> <th>SCHEDULED_DEPARTURE</th> <th>DELAY</th> <th>ORIGIN_NAME</th> <th>LATITUDE</th> <th>LONGITUDE</th> <th>APPROX_DAY_OF_YEAR</th>\n",
              "        </tr>\n",
              "    </thead>\n",
              "    <tbody>\n",
              "        <tr>\n",
              "            <td>2    </td> <td>11  </td> <td>ABE   </td> <td>DTW        </td> <td>1253               </td> <td>212  </td> <td>Lehigh Valley International Airport</td> <td>40.6524 </td> <td>-75.4404 </td> <td>41                </td>\n",
              "        </tr>\n",
              "        <tr>\n",
              "            <td>3    </td> <td>15  </td> <td>ABE   </td> <td>ATL        </td> <td>1202               </td> <td>-10  </td> <td>Lehigh Valley International Airport</td> <td>40.6524 </td> <td>-75.4404 </td> <td>75                </td>\n",
              "        </tr>\n",
              "        <tr>\n",
              "            <td>9    </td> <td>21  </td> <td>ABE   </td> <td>DTW        </td> <td>1300               </td> <td>-6   </td> <td>Lehigh Valley International Airport</td> <td>40.6524 </td> <td>-75.4404 </td> <td>261               </td>\n",
              "        </tr>\n",
              "        <tr>\n",
              "            <td>12   </td> <td>2   </td> <td>ABE   </td> <td>ATL        </td> <td>600                </td> <td>-1   </td> <td>Lehigh Valley International Airport</td> <td>40.6524 </td> <td>-75.4404 </td> <td>332               </td>\n",
              "        </tr>\n",
              "        <tr>\n",
              "            <td>2    </td> <td>12  </td> <td>ABI   </td> <td>DFW        </td> <td>805                </td> <td>-12  </td> <td>Abilene Regional Airport           </td> <td>32.4113 </td> <td>-99.6819 </td> <td>42                </td>\n",
              "        </tr>\n",
              "        <tr>\n",
              "            <td>4    </td> <td>8   </td> <td>ABI   </td> <td>DFW        </td> <td>705                </td> <td>-3   </td> <td>Abilene Regional Airport           </td> <td>32.4113 </td> <td>-99.6819 </td> <td>98                </td>\n",
              "        </tr>\n",
              "        <tr>\n",
              "            <td>1    </td> <td>7   </td> <td>ABQ   </td> <td>OAK        </td> <td>1845               </td> <td>24   </td> <td>Albuquerque International Sunport  </td> <td>35.0402 </td> <td>-106.609 </td> <td>7                 </td>\n",
              "        </tr>\n",
              "        <tr>\n",
              "            <td>1    </td> <td>25  </td> <td>ABQ   </td> <td>LAS        </td> <td>1020               </td> <td>9    </td> <td>Albuquerque International Sunport  </td> <td>35.0402 </td> <td>-106.609 </td> <td>25                </td>\n",
              "        </tr>\n",
              "        <tr>\n",
              "            <td>2    </td> <td>5   </td> <td>ABQ   </td> <td>DEN        </td> <td>655                </td> <td>-5   </td> <td>Albuquerque International Sunport  </td> <td>35.0402 </td> <td>-106.609 </td> <td>35                </td>\n",
              "        </tr>\n",
              "        <tr>\n",
              "            <td>3    </td> <td>2   </td> <td>ABQ   </td> <td>ORD        </td> <td>1313               </td> <td>16   </td> <td>Albuquerque International Sunport  </td> <td>35.0402 </td> <td>-106.609 </td> <td>62                </td>\n",
              "        </tr>\n",
              "    </tbody>\n",
              "</table>\n",
              "<p>... (5323 rows omitted)</p>"
            ]
          },
          "metadata": {},
          "execution_count": 8
        }
      ]
    },
    {
      "cell_type": "code",
      "source": [
        "mySample.scatter('LATITUDE', 'DELAY')"
      ],
      "metadata": {
        "colab": {
          "base_uri": "https://localhost:8080/",
          "height": 491
        },
        "id": "-0ieIVhZbAa3",
        "outputId": "b0a459d8-4f86-4e7b-9401-635304ca1249"
      },
      "execution_count": 15,
      "outputs": [
        {
          "output_type": "display_data",
          "data": {
            "text/plain": [
              "<Figure size 500x500 with 1 Axes>"
            ],
            "image/png": "[encoded data removed]"
          },
          "metadata": {}
        }
      ]
    }
  ]
}